{
  "nbformat": 4,
  "nbformat_minor": 0,
  "metadata": {
    "colab": {
      "name": "Clasificacion_genero.ipynb",
      "provenance": [],
      "authorship_tag": "ABX9TyNhWrCRH4uOl6rEmRVTduDQ",
      "include_colab_link": true
    },
    "kernelspec": {
      "name": "python3",
      "display_name": "Python 3"
    }
  },
  "cells": [
    {
      "cell_type": "markdown",
      "metadata": {
        "id": "view-in-github",
        "colab_type": "text"
      },
      "source": [
        "<a href=\"https://colab.research.google.com/github/la-elias/Hackathon2020/blob/master/Clasificacion_genero.ipynb\" target=\"_parent\"><img src=\"https://colab.research.google.com/assets/colab-badge.svg\" alt=\"Open In Colab\"/></a>"
      ]
    },
    {
      "cell_type": "code",
      "metadata": {
        "id": "EVPTJGs_fhuG",
        "colab_type": "code",
        "colab": {}
      },
      "source": [
        "#\n",
        "#Librerias\n",
        "import pandas as pd\n",
        "import numpy as np\n",
        "import re\n",
        "import math\n",
        "import requests\n",
        "import time\n",
        "from tqdm import tqdm, trange\n",
        "from time import sleep\n",
        "from bs4 import BeautifulSoup\n",
        "import urllib.request \n",
        "import pandas as pd\n",
        "import io\n",
        "import requests\n",
        "#import spacy"
      ],
      "execution_count": 1,
      "outputs": []
    },
    {
      "cell_type": "code",
      "metadata": {
        "id": "PB_HhrPpfTXM",
        "colab_type": "code",
        "colab": {}
      },
      "source": [
        "letras= list(range(0,9900,150))#Number of pages 258\n",
        "for letra in letras:\n",
        "    url='https://www.buenosaires.gob.ar/areas/registrocivil/nombres/busqueda/buscador_nombres.php?offset={}&menu_id=16082'.format(letra)\n",
        "    s=requests.get(url).content\n",
        "    c=pd.read_html(io.StringIO(s.decode('ISO-8859-1')))\n",
        "    df=c[0]\n",
        "    #new_header = df.iloc[0] #grab the first row for the header\n",
        "    df = df[1:] #take the data less the header row\n",
        "    #df.columns = new_header\n",
        "    df.to_csv('nombres/''nombre'+str(letra)+'.csv')"
      ],
      "execution_count": 3,
      "outputs": []
    },
    {
      "cell_type": "code",
      "metadata": {
        "id": "FppoAPxVflnq",
        "colab_type": "code",
        "colab": {
          "base_uri": "https://localhost:8080/",
          "height": 255
        },
        "outputId": "be8d1b1d-9a2b-4fca-98bc-4f2091be4794"
      },
      "source": [
        "ad=pd.read_csv('nombres/''nombre0.csv')\n",
        "ad.tail()"
      ],
      "execution_count": 4,
      "outputs": [
        {
          "output_type": "execute_result",
          "data": {
            "text/html": [
              "<div>\n",
              "<style scoped>\n",
              "    .dataframe tbody tr th:only-of-type {\n",
              "        vertical-align: middle;\n",
              "    }\n",
              "\n",
              "    .dataframe tbody tr th {\n",
              "        vertical-align: top;\n",
              "    }\n",
              "\n",
              "    .dataframe thead th {\n",
              "        text-align: right;\n",
              "    }\n",
              "</style>\n",
              "<table border=\"1\" class=\"dataframe\">\n",
              "  <thead>\n",
              "    <tr style=\"text-align: right;\">\n",
              "      <th></th>\n",
              "      <th>Unnamed: 0</th>\n",
              "      <th>Nombres</th>\n",
              "      <th>Nombres.1</th>\n",
              "      <th>Nombres.2</th>\n",
              "      <th>Nombres.3</th>\n",
              "    </tr>\n",
              "  </thead>\n",
              "  <tbody>\n",
              "    <tr>\n",
              "      <th>296</th>\n",
              "      <td>296.0</td>\n",
              "      <td>Aitalas</td>\n",
              "      <td>M</td>\n",
              "      <td>NaN</td>\n",
              "      <td>NaN</td>\n",
              "    </tr>\n",
              "    <tr>\n",
              "      <th>297</th>\n",
              "      <td>297.0</td>\n",
              "      <td>Aitana</td>\n",
              "      <td>F</td>\n",
              "      <td>NaN</td>\n",
              "      <td>NaN</td>\n",
              "    </tr>\n",
              "    <tr>\n",
              "      <th>298</th>\n",
              "      <td>298.0</td>\n",
              "      <td>Aitiana</td>\n",
              "      <td>F</td>\n",
              "      <td>NaN</td>\n",
              "      <td>NaN</td>\n",
              "    </tr>\n",
              "    <tr>\n",
              "      <th>299</th>\n",
              "      <td>299.0</td>\n",
              "      <td>Aitor</td>\n",
              "      <td>M</td>\n",
              "      <td>NaN</td>\n",
              "      <td>NaN</td>\n",
              "    </tr>\n",
              "    <tr>\n",
              "      <th>300</th>\n",
              "      <td>300.0</td>\n",
              "      <td>Listado de nombres aprobados por el Registro C...</td>\n",
              "      <td>Listado de nombres aprobados por el Registro C...</td>\n",
              "      <td>Listado de nombres aprobados por el Registro C...</td>\n",
              "      <td>Listado de nombres aprobados por el Registro C...</td>\n",
              "    </tr>\n",
              "  </tbody>\n",
              "</table>\n",
              "</div>"
            ],
            "text/plain": [
              "     Unnamed: 0  ...                                          Nombres.3\n",
              "296       296.0  ...                                                NaN\n",
              "297       297.0  ...                                                NaN\n",
              "298       298.0  ...                                                NaN\n",
              "299       299.0  ...                                                NaN\n",
              "300       300.0  ...  Listado de nombres aprobados por el Registro C...\n",
              "\n",
              "[5 rows x 5 columns]"
            ]
          },
          "metadata": {
            "tags": []
          },
          "execution_count": 4
        }
      ]
    },
    {
      "cell_type": "code",
      "metadata": {
        "id": "s1kdVGJsgqes",
        "colab_type": "code",
        "colab": {}
      },
      "source": [
        "female=ad[ad['Nombres.1']=='F']\n",
        "female=female['Nombres']\n",
        "male=ad[ad['Nombres.1']=='M']\n",
        "male=male['Nombres']\n",
        "male.to_csv('male_.csv')\n",
        "female.to_csv('female_.csv')"
      ],
      "execution_count": 5,
      "outputs": []
    },
    {
      "cell_type": "code",
      "metadata": {
        "id": "MQmoFqCLgvv0",
        "colab_type": "code",
        "colab": {
          "base_uri": "https://localhost:8080/",
          "height": 51
        },
        "outputId": "30ce75c7-b020-47c1-988f-2e630f8b77bf"
      },
      "source": [
        "import random \n",
        "import nltk\n",
        "nltk.download('names')\n",
        "from nltk.corpus import names \n",
        "import nltk \n",
        "  \n",
        "def gender_features(word): \n",
        "    return {'last_letter':word[-1]} \n",
        "  \n",
        "# preparing a list of examples and corresponding class labels. \n",
        "labeled_names = ([(name, 'male') for name in names.words('male.txt')]+\n",
        "             [(name, 'female') for name in names.words('female.txt')]) \n",
        "  \n",
        "random.shuffle(labeled_names) \n",
        "  \n",
        "# we use the feature extractor to process the names data. \n",
        "featuresets = [(gender_features(n), gender)  \n",
        "               for (n, gender)in labeled_names] \n",
        "  \n",
        "# Divide the resulting list of feature \n",
        "# sets into a training set and a test set. \n",
        "train_set, test_set = featuresets[7000:], featuresets[:6000] \n",
        "  \n",
        "# The training set is used to  \n",
        "# train a new \"naive Bayes\" classifier. \n",
        "tree = nltk.DecisionTreeClassifier.train(train_set)\n",
        "naive= nltk.NaiveBayesClassifier.train(train_set)\n",
        "classifier = nltk.NaiveBayesClassifier.train(train_set)"
      ],
      "execution_count": 6,
      "outputs": [
        {
          "output_type": "stream",
          "text": [
            "[nltk_data] Downloading package names to /root/nltk_data...\n",
            "[nltk_data]   Unzipping corpora/names.zip.\n"
          ],
          "name": "stdout"
        }
      ]
    },
    {
      "cell_type": "code",
      "metadata": {
        "id": "f9GznL93g45c",
        "colab_type": "code",
        "colab": {
          "base_uri": "https://localhost:8080/",
          "height": 85
        },
        "outputId": "2c25fc9b-84bb-4c30-adf6-d9fdea8af3fb"
      },
      "source": [
        "nltk.download('names')\n",
        "nltk.download('punkt')\n",
        "from nltk.tokenize import MWETokenizer"
      ],
      "execution_count": 7,
      "outputs": [
        {
          "output_type": "stream",
          "text": [
            "[nltk_data] Downloading package names to /root/nltk_data...\n",
            "[nltk_data]   Package names is already up-to-date!\n",
            "[nltk_data] Downloading package punkt to /root/nltk_data...\n",
            "[nltk_data]   Unzipping tokenizers/punkt.zip.\n"
          ],
          "name": "stdout"
        }
      ]
    },
    {
      "cell_type": "code",
      "metadata": {
        "id": "XtNktoz_hDPc",
        "colab_type": "code",
        "colab": {
          "base_uri": "https://localhost:8080/",
          "height": 34
        },
        "outputId": "3c6755b6-9b05-4a9b-9182-79e6e5eefa75"
      },
      "source": [
        "print(nltk.classify.accuracy(tree, test_set))"
      ],
      "execution_count": 8,
      "outputs": [
        {
          "output_type": "stream",
          "text": [
            "0.7465\n"
          ],
          "name": "stdout"
        }
      ]
    },
    {
      "cell_type": "code",
      "metadata": {
        "id": "nngBn9fAhGfp",
        "colab_type": "code",
        "colab": {
          "base_uri": "https://localhost:8080/",
          "height": 34
        },
        "outputId": "34b8035c-51d0-4416-f1e5-5ecbb83d6153"
      },
      "source": [
        "print(nltk.classify.accuracy(naive, test_set))"
      ],
      "execution_count": 9,
      "outputs": [
        {
          "output_type": "stream",
          "text": [
            "0.7438333333333333\n"
          ],
          "name": "stdout"
        }
      ]
    },
    {
      "cell_type": "code",
      "metadata": {
        "id": "_qTM2HGHhKF9",
        "colab_type": "code",
        "colab": {
          "base_uri": "https://localhost:8080/",
          "height": 35
        },
        "outputId": "037c3150-f27b-45e3-f617-d2ba37073f03"
      },
      "source": [
        "naive.classify(gender_features('Adriano'))"
      ],
      "execution_count": 10,
      "outputs": [
        {
          "output_type": "execute_result",
          "data": {
            "application/vnd.google.colaboratory.intrinsic+json": {
              "type": "string"
            },
            "text/plain": [
              "'male'"
            ]
          },
          "metadata": {
            "tags": []
          },
          "execution_count": 10
        }
      ]
    },
    {
      "cell_type": "code",
      "metadata": {
        "id": "SwIYG1qrhV4d",
        "colab_type": "code",
        "colab": {
          "base_uri": "https://localhost:8080/",
          "height": 745
        },
        "outputId": "7546974a-3d3c-4abd-8cc2-dd076af29f3e"
      },
      "source": [
        "df=pd.read_csv(\"Minagri_20196.csv\")\n",
        "df"
      ],
      "execution_count": 13,
      "outputs": [
        {
          "output_type": "execute_result",
          "data": {
            "text/html": [
              "<div>\n",
              "<style scoped>\n",
              "    .dataframe tbody tr th:only-of-type {\n",
              "        vertical-align: middle;\n",
              "    }\n",
              "\n",
              "    .dataframe tbody tr th {\n",
              "        vertical-align: top;\n",
              "    }\n",
              "\n",
              "    .dataframe thead th {\n",
              "        text-align: right;\n",
              "    }\n",
              "</style>\n",
              "<table border=\"1\" class=\"dataframe\">\n",
              "  <thead>\n",
              "    <tr style=\"text-align: right;\">\n",
              "      <th></th>\n",
              "      <th>PK_ID_PERSONAL</th>\n",
              "      <th>VC_PERSONAL_RUC_ENTIDAD</th>\n",
              "      <th>IN_PERSONAL_ANNO</th>\n",
              "      <th>IN_PERSONAL_MES</th>\n",
              "      <th>VC_PERSONAL_REGIMEN_LABORAL</th>\n",
              "      <th>VC_PERSONAL_PATERNO</th>\n",
              "      <th>VC_PERSONAL_MATERNO</th>\n",
              "      <th>VC_PERSONAL_NOMBRES</th>\n",
              "      <th>VC_PERSONAL_CARGO</th>\n",
              "      <th>VC_PERSONAL_DEPENDENCIA</th>\n",
              "      <th>MO_PERSONAL_REMUNERACIONES</th>\n",
              "      <th>MO_PERSONAL_HONORARIOS</th>\n",
              "      <th>MO_PERSONAL_INCENTIVO</th>\n",
              "      <th>MO_PERSONAL_GRATIFICACION</th>\n",
              "      <th>MO_PERSONAL_OTROS_BENEFICIOS</th>\n",
              "      <th>MO_PERSONAL_TOTAL</th>\n",
              "      <th>VC_PERSONAL_OBSERVACIONES</th>\n",
              "      <th>FEC_REG</th>\n",
              "    </tr>\n",
              "  </thead>\n",
              "  <tbody>\n",
              "    <tr>\n",
              "      <th>0</th>\n",
              "      <td>34189666</td>\n",
              "      <td>20131372931</td>\n",
              "      <td>2019</td>\n",
              "      <td>7</td>\n",
              "      <td>4</td>\n",
              "      <td>SAYAN</td>\n",
              "      <td>GIANELLA</td>\n",
              "      <td>VICTOR AUGUSTO</td>\n",
              "      <td>DIRECTOR GENERAL DE LA DIRECCIÓN GENERAL AGRÍCOLA</td>\n",
              "      <td>DIRECCIÓN GENERAL AGRÍCOLA</td>\n",
              "      <td>0.00</td>\n",
              "      <td>20500.0</td>\n",
              "      <td>0.0</td>\n",
              "      <td>0.00</td>\n",
              "      <td>0</td>\n",
              "      <td>20500.00</td>\n",
              "      <td>NaN</td>\n",
              "      <td>3/13/2019 8:58:59 AM</td>\n",
              "    </tr>\n",
              "    <tr>\n",
              "      <th>1</th>\n",
              "      <td>36895401</td>\n",
              "      <td>20131372931</td>\n",
              "      <td>2019</td>\n",
              "      <td>7</td>\n",
              "      <td>5</td>\n",
              "      <td>Conterno</td>\n",
              "      <td>Jugo</td>\n",
              "      <td>Carmen Ivonne</td>\n",
              "      <td>CONSULTOR</td>\n",
              "      <td>GAB-DM</td>\n",
              "      <td>0.00</td>\n",
              "      <td>15600.0</td>\n",
              "      <td>0.0</td>\n",
              "      <td>0.00</td>\n",
              "      <td>0</td>\n",
              "      <td>15600.00</td>\n",
              "      <td>NaN</td>\n",
              "      <td>8/12/2019 09:40</td>\n",
              "    </tr>\n",
              "    <tr>\n",
              "      <th>2</th>\n",
              "      <td>36895402</td>\n",
              "      <td>20131372931</td>\n",
              "      <td>2019</td>\n",
              "      <td>7</td>\n",
              "      <td>5</td>\n",
              "      <td>Barrientos</td>\n",
              "      <td>Alvarado</td>\n",
              "      <td>Jose Donaldo</td>\n",
              "      <td>CONSULTOR</td>\n",
              "      <td>GAB-DM</td>\n",
              "      <td>0.00</td>\n",
              "      <td>13000.0</td>\n",
              "      <td>0.0</td>\n",
              "      <td>0.00</td>\n",
              "      <td>0</td>\n",
              "      <td>13000.00</td>\n",
              "      <td>NaN</td>\n",
              "      <td>8/12/2019 09:40</td>\n",
              "    </tr>\n",
              "    <tr>\n",
              "      <th>3</th>\n",
              "      <td>36895403</td>\n",
              "      <td>20131372931</td>\n",
              "      <td>2019</td>\n",
              "      <td>7</td>\n",
              "      <td>5</td>\n",
              "      <td>Gutierrez</td>\n",
              "      <td>Bobadilla</td>\n",
              "      <td>Erickson</td>\n",
              "      <td>ASESOR I</td>\n",
              "      <td>SG</td>\n",
              "      <td>0.00</td>\n",
              "      <td>15000.0</td>\n",
              "      <td>0.0</td>\n",
              "      <td>0.00</td>\n",
              "      <td>0</td>\n",
              "      <td>15000.00</td>\n",
              "      <td>NaN</td>\n",
              "      <td>8/12/2019 09:40</td>\n",
              "    </tr>\n",
              "    <tr>\n",
              "      <th>4</th>\n",
              "      <td>36895404</td>\n",
              "      <td>20131372931</td>\n",
              "      <td>2019</td>\n",
              "      <td>7</td>\n",
              "      <td>5</td>\n",
              "      <td>Ludeña</td>\n",
              "      <td>Delgado</td>\n",
              "      <td>Jodie Olinda</td>\n",
              "      <td>CONSULTOR</td>\n",
              "      <td>DVDIAR</td>\n",
              "      <td>0.00</td>\n",
              "      <td>15000.0</td>\n",
              "      <td>0.0</td>\n",
              "      <td>0.00</td>\n",
              "      <td>0</td>\n",
              "      <td>15000.00</td>\n",
              "      <td>NaN</td>\n",
              "      <td>8/12/2019 09:40</td>\n",
              "    </tr>\n",
              "    <tr>\n",
              "      <th>...</th>\n",
              "      <td>...</td>\n",
              "      <td>...</td>\n",
              "      <td>...</td>\n",
              "      <td>...</td>\n",
              "      <td>...</td>\n",
              "      <td>...</td>\n",
              "      <td>...</td>\n",
              "      <td>...</td>\n",
              "      <td>...</td>\n",
              "      <td>...</td>\n",
              "      <td>...</td>\n",
              "      <td>...</td>\n",
              "      <td>...</td>\n",
              "      <td>...</td>\n",
              "      <td>...</td>\n",
              "      <td>...</td>\n",
              "      <td>...</td>\n",
              "      <td>...</td>\n",
              "    </tr>\n",
              "    <tr>\n",
              "      <th>4608</th>\n",
              "      <td>37036513</td>\n",
              "      <td>20131372931</td>\n",
              "      <td>2019</td>\n",
              "      <td>7</td>\n",
              "      <td>8</td>\n",
              "      <td>ZUNIGA</td>\n",
              "      <td>ESTREMADOYRO</td>\n",
              "      <td>ROGER FERNANDO</td>\n",
              "      <td>PENSIONISTA</td>\n",
              "      <td>NaN</td>\n",
              "      <td>1215.79</td>\n",
              "      <td>0.0</td>\n",
              "      <td>0.0</td>\n",
              "      <td>0.00</td>\n",
              "      <td>300</td>\n",
              "      <td>1515.79</td>\n",
              "      <td>NaN</td>\n",
              "      <td>8/14/2019 10:54:17 AM</td>\n",
              "    </tr>\n",
              "    <tr>\n",
              "      <th>4609</th>\n",
              "      <td>37036514</td>\n",
              "      <td>20131372931</td>\n",
              "      <td>2019</td>\n",
              "      <td>7</td>\n",
              "      <td>8</td>\n",
              "      <td>ZUÑIGA</td>\n",
              "      <td>GONZALES DE BERLANGA</td>\n",
              "      <td>NORMA LUISA</td>\n",
              "      <td>PENSIONISTA</td>\n",
              "      <td>NaN</td>\n",
              "      <td>922.00</td>\n",
              "      <td>0.0</td>\n",
              "      <td>0.0</td>\n",
              "      <td>0.00</td>\n",
              "      <td>300</td>\n",
              "      <td>1222.00</td>\n",
              "      <td>NaN</td>\n",
              "      <td>8/14/2019 10:54:17 AM</td>\n",
              "    </tr>\n",
              "    <tr>\n",
              "      <th>4610</th>\n",
              "      <td>37036515</td>\n",
              "      <td>20131372931</td>\n",
              "      <td>2019</td>\n",
              "      <td>7</td>\n",
              "      <td>8</td>\n",
              "      <td>ZUÑIGA</td>\n",
              "      <td>TRELLES</td>\n",
              "      <td>WASHINGTON</td>\n",
              "      <td>PENSIONISTA</td>\n",
              "      <td>NaN</td>\n",
              "      <td>6877.95</td>\n",
              "      <td>0.0</td>\n",
              "      <td>0.0</td>\n",
              "      <td>6877.95</td>\n",
              "      <td>0</td>\n",
              "      <td>13755.90</td>\n",
              "      <td>NaN</td>\n",
              "      <td>8/14/2019 10:54:17 AM</td>\n",
              "    </tr>\n",
              "    <tr>\n",
              "      <th>4611</th>\n",
              "      <td>37036516</td>\n",
              "      <td>20131372931</td>\n",
              "      <td>2019</td>\n",
              "      <td>7</td>\n",
              "      <td>8</td>\n",
              "      <td>ZUÑIGA</td>\n",
              "      <td>ZORRILLA</td>\n",
              "      <td>INOCENTA</td>\n",
              "      <td>PENSIONISTA</td>\n",
              "      <td>NaN</td>\n",
              "      <td>737.00</td>\n",
              "      <td>0.0</td>\n",
              "      <td>0.0</td>\n",
              "      <td>0.00</td>\n",
              "      <td>300</td>\n",
              "      <td>1037.00</td>\n",
              "      <td>NaN</td>\n",
              "      <td>8/14/2019 10:54:17 AM</td>\n",
              "    </tr>\n",
              "    <tr>\n",
              "      <th>4612</th>\n",
              "      <td>37036517</td>\n",
              "      <td>20131372931</td>\n",
              "      <td>2019</td>\n",
              "      <td>7</td>\n",
              "      <td>8</td>\n",
              "      <td>ZURITA</td>\n",
              "      <td>PICHILINGUE</td>\n",
              "      <td>ELBA IZAURA</td>\n",
              "      <td>PENSIONISTA</td>\n",
              "      <td>NaN</td>\n",
              "      <td>860.00</td>\n",
              "      <td>0.0</td>\n",
              "      <td>0.0</td>\n",
              "      <td>0.00</td>\n",
              "      <td>300</td>\n",
              "      <td>1160.00</td>\n",
              "      <td>NaN</td>\n",
              "      <td>8/14/2019 10:54:17 AM</td>\n",
              "    </tr>\n",
              "  </tbody>\n",
              "</table>\n",
              "<p>4613 rows × 18 columns</p>\n",
              "</div>"
            ],
            "text/plain": [
              "      PK_ID_PERSONAL  ...                FEC_REG\n",
              "0           34189666  ...   3/13/2019 8:58:59 AM\n",
              "1           36895401  ...        8/12/2019 09:40\n",
              "2           36895402  ...        8/12/2019 09:40\n",
              "3           36895403  ...        8/12/2019 09:40\n",
              "4           36895404  ...        8/12/2019 09:40\n",
              "...              ...  ...                    ...\n",
              "4608        37036513  ...  8/14/2019 10:54:17 AM\n",
              "4609        37036514  ...  8/14/2019 10:54:17 AM\n",
              "4610        37036515  ...  8/14/2019 10:54:17 AM\n",
              "4611        37036516  ...  8/14/2019 10:54:17 AM\n",
              "4612        37036517  ...  8/14/2019 10:54:17 AM\n",
              "\n",
              "[4613 rows x 18 columns]"
            ]
          },
          "metadata": {
            "tags": []
          },
          "execution_count": 13
        }
      ]
    },
    {
      "cell_type": "code",
      "metadata": {
        "id": "s9bRvvylnqha",
        "colab_type": "code",
        "colab": {}
      },
      "source": [
        "db=pd.read_csv('Minagri_20196.csv')"
      ],
      "execution_count": 14,
      "outputs": []
    },
    {
      "cell_type": "code",
      "metadata": {
        "id": "9K-nZA-TnAds",
        "colab_type": "code",
        "colab": {
          "base_uri": "https://localhost:8080/",
          "height": 119
        },
        "outputId": "ab201582-a1c3-4679-c658-4b50e58c01b2"
      },
      "source": [
        "x=[]\n",
        "for i in range(0,len(db['VC_PERSONAL_NOMBRES'])):\n",
        "    tokenizer = MWETokenizer()\n",
        "    a=tokenizer.tokenize(db['VC_PERSONAL_NOMBRES'][i].split())\n",
        "    x.append(a[0].lower())\n",
        "b=[]\n",
        "for i in range(0,len(x)):\n",
        "    a=classifier.classify(gender_features(x[i]))\n",
        "    b.append(a)\n",
        "db['gender']=b\n",
        "db['gender'].head()"
      ],
      "execution_count": 15,
      "outputs": [
        {
          "output_type": "execute_result",
          "data": {
            "text/plain": [
              "0      male\n",
              "1    female\n",
              "2    female\n",
              "3    female\n",
              "4    female\n",
              "Name: gender, dtype: object"
            ]
          },
          "metadata": {
            "tags": []
          },
          "execution_count": 15
        }
      ]
    },
    {
      "cell_type": "code",
      "metadata": {
        "id": "iwiAlhcAwaLI",
        "colab_type": "code",
        "colab": {
          "base_uri": "https://localhost:8080/",
          "height": 34
        },
        "outputId": "7f364095-62b6-42ed-fb02-507a0750b8bc"
      },
      "source": [
        "print(nltk.classify.accuracy(naive, test_set))"
      ],
      "execution_count": 16,
      "outputs": [
        {
          "output_type": "stream",
          "text": [
            "0.7438333333333333\n"
          ],
          "name": "stdout"
        }
      ]
    },
    {
      "cell_type": "code",
      "metadata": {
        "id": "PiIkl5GMxIiz",
        "colab_type": "code",
        "colab": {
          "base_uri": "https://localhost:8080/",
          "height": 444
        },
        "outputId": "6d17c462-4698-406e-d834-788499532ed6"
      },
      "source": [
        "#names.to_csv('names_label.csv')\n",
        "db.describe(include='all')"
      ],
      "execution_count": 17,
      "outputs": [
        {
          "output_type": "execute_result",
          "data": {
            "text/html": [
              "<div>\n",
              "<style scoped>\n",
              "    .dataframe tbody tr th:only-of-type {\n",
              "        vertical-align: middle;\n",
              "    }\n",
              "\n",
              "    .dataframe tbody tr th {\n",
              "        vertical-align: top;\n",
              "    }\n",
              "\n",
              "    .dataframe thead th {\n",
              "        text-align: right;\n",
              "    }\n",
              "</style>\n",
              "<table border=\"1\" class=\"dataframe\">\n",
              "  <thead>\n",
              "    <tr style=\"text-align: right;\">\n",
              "      <th></th>\n",
              "      <th>PK_ID_PERSONAL</th>\n",
              "      <th>VC_PERSONAL_RUC_ENTIDAD</th>\n",
              "      <th>IN_PERSONAL_ANNO</th>\n",
              "      <th>IN_PERSONAL_MES</th>\n",
              "      <th>VC_PERSONAL_REGIMEN_LABORAL</th>\n",
              "      <th>VC_PERSONAL_PATERNO</th>\n",
              "      <th>VC_PERSONAL_MATERNO</th>\n",
              "      <th>VC_PERSONAL_NOMBRES</th>\n",
              "      <th>VC_PERSONAL_CARGO</th>\n",
              "      <th>VC_PERSONAL_DEPENDENCIA</th>\n",
              "      <th>MO_PERSONAL_REMUNERACIONES</th>\n",
              "      <th>MO_PERSONAL_HONORARIOS</th>\n",
              "      <th>MO_PERSONAL_INCENTIVO</th>\n",
              "      <th>MO_PERSONAL_GRATIFICACION</th>\n",
              "      <th>MO_PERSONAL_OTROS_BENEFICIOS</th>\n",
              "      <th>MO_PERSONAL_TOTAL</th>\n",
              "      <th>VC_PERSONAL_OBSERVACIONES</th>\n",
              "      <th>FEC_REG</th>\n",
              "      <th>gender</th>\n",
              "    </tr>\n",
              "  </thead>\n",
              "  <tbody>\n",
              "    <tr>\n",
              "      <th>count</th>\n",
              "      <td>4.613000e+03</td>\n",
              "      <td>4.613000e+03</td>\n",
              "      <td>4613.0</td>\n",
              "      <td>4613.0</td>\n",
              "      <td>4613.000000</td>\n",
              "      <td>4613</td>\n",
              "      <td>4610</td>\n",
              "      <td>4613</td>\n",
              "      <td>4613</td>\n",
              "      <td>948</td>\n",
              "      <td>4613.000000</td>\n",
              "      <td>4613.000000</td>\n",
              "      <td>4613.000000</td>\n",
              "      <td>4613.000000</td>\n",
              "      <td>4613.000000</td>\n",
              "      <td>4613.000000</td>\n",
              "      <td>297</td>\n",
              "      <td>4613</td>\n",
              "      <td>4613</td>\n",
              "    </tr>\n",
              "    <tr>\n",
              "      <th>unique</th>\n",
              "      <td>NaN</td>\n",
              "      <td>NaN</td>\n",
              "      <td>NaN</td>\n",
              "      <td>NaN</td>\n",
              "      <td>NaN</td>\n",
              "      <td>1820</td>\n",
              "      <td>2705</td>\n",
              "      <td>3111</td>\n",
              "      <td>111</td>\n",
              "      <td>71</td>\n",
              "      <td>NaN</td>\n",
              "      <td>NaN</td>\n",
              "      <td>NaN</td>\n",
              "      <td>NaN</td>\n",
              "      <td>NaN</td>\n",
              "      <td>NaN</td>\n",
              "      <td>8</td>\n",
              "      <td>16</td>\n",
              "      <td>2</td>\n",
              "    </tr>\n",
              "    <tr>\n",
              "      <th>top</th>\n",
              "      <td>NaN</td>\n",
              "      <td>NaN</td>\n",
              "      <td>NaN</td>\n",
              "      <td>NaN</td>\n",
              "      <td>NaN</td>\n",
              "      <td>SANCHEZ</td>\n",
              "      <td>GARCIA</td>\n",
              "      <td>CARLOS</td>\n",
              "      <td>PENSIONISTA</td>\n",
              "      <td>OFICINA GENERAL DE GESTIÓN DE RECURSOS HUMANOS</td>\n",
              "      <td>NaN</td>\n",
              "      <td>NaN</td>\n",
              "      <td>NaN</td>\n",
              "      <td>NaN</td>\n",
              "      <td>NaN</td>\n",
              "      <td>NaN</td>\n",
              "      <td>NINGUNA</td>\n",
              "      <td>8/14/2019 10:54:13 AM</td>\n",
              "      <td>female</td>\n",
              "    </tr>\n",
              "    <tr>\n",
              "      <th>freq</th>\n",
              "      <td>NaN</td>\n",
              "      <td>NaN</td>\n",
              "      <td>NaN</td>\n",
              "      <td>NaN</td>\n",
              "      <td>NaN</td>\n",
              "      <td>47</td>\n",
              "      <td>45</td>\n",
              "      <td>27</td>\n",
              "      <td>3665</td>\n",
              "      <td>110</td>\n",
              "      <td>NaN</td>\n",
              "      <td>NaN</td>\n",
              "      <td>NaN</td>\n",
              "      <td>NaN</td>\n",
              "      <td>NaN</td>\n",
              "      <td>NaN</td>\n",
              "      <td>285</td>\n",
              "      <td>958</td>\n",
              "      <td>2618</td>\n",
              "    </tr>\n",
              "    <tr>\n",
              "      <th>mean</th>\n",
              "      <td>3.703247e+07</td>\n",
              "      <td>2.013137e+10</td>\n",
              "      <td>2019.0</td>\n",
              "      <td>7.0</td>\n",
              "      <td>6.650119</td>\n",
              "      <td>NaN</td>\n",
              "      <td>NaN</td>\n",
              "      <td>NaN</td>\n",
              "      <td>NaN</td>\n",
              "      <td>NaN</td>\n",
              "      <td>1660.702697</td>\n",
              "      <td>67.455740</td>\n",
              "      <td>153.990303</td>\n",
              "      <td>50.124049</td>\n",
              "      <td>268.285281</td>\n",
              "      <td>2164.951200</td>\n",
              "      <td>NaN</td>\n",
              "      <td>NaN</td>\n",
              "      <td>NaN</td>\n",
              "    </tr>\n",
              "    <tr>\n",
              "      <th>std</th>\n",
              "      <td>4.272199e+04</td>\n",
              "      <td>0.000000e+00</td>\n",
              "      <td>0.0</td>\n",
              "      <td>0.0</td>\n",
              "      <td>2.677655</td>\n",
              "      <td>NaN</td>\n",
              "      <td>NaN</td>\n",
              "      <td>NaN</td>\n",
              "      <td>NaN</td>\n",
              "      <td>NaN</td>\n",
              "      <td>2363.679757</td>\n",
              "      <td>1125.915689</td>\n",
              "      <td>640.347717</td>\n",
              "      <td>515.172014</td>\n",
              "      <td>91.271419</td>\n",
              "      <td>2727.840899</td>\n",
              "      <td>NaN</td>\n",
              "      <td>NaN</td>\n",
              "      <td>NaN</td>\n",
              "    </tr>\n",
              "    <tr>\n",
              "      <th>min</th>\n",
              "      <td>3.418967e+07</td>\n",
              "      <td>2.013137e+10</td>\n",
              "      <td>2019.0</td>\n",
              "      <td>7.0</td>\n",
              "      <td>1.000000</td>\n",
              "      <td>NaN</td>\n",
              "      <td>NaN</td>\n",
              "      <td>NaN</td>\n",
              "      <td>NaN</td>\n",
              "      <td>NaN</td>\n",
              "      <td>0.000000</td>\n",
              "      <td>0.000000</td>\n",
              "      <td>0.000000</td>\n",
              "      <td>0.000000</td>\n",
              "      <td>0.000000</td>\n",
              "      <td>0.000000</td>\n",
              "      <td>NaN</td>\n",
              "      <td>NaN</td>\n",
              "      <td>NaN</td>\n",
              "    </tr>\n",
              "    <tr>\n",
              "      <th>25%</th>\n",
              "      <td>3.703306e+07</td>\n",
              "      <td>2.013137e+10</td>\n",
              "      <td>2019.0</td>\n",
              "      <td>7.0</td>\n",
              "      <td>8.000000</td>\n",
              "      <td>NaN</td>\n",
              "      <td>NaN</td>\n",
              "      <td>NaN</td>\n",
              "      <td>NaN</td>\n",
              "      <td>NaN</td>\n",
              "      <td>750.090000</td>\n",
              "      <td>0.000000</td>\n",
              "      <td>0.000000</td>\n",
              "      <td>0.000000</td>\n",
              "      <td>300.000000</td>\n",
              "      <td>1085.000000</td>\n",
              "      <td>NaN</td>\n",
              "      <td>NaN</td>\n",
              "      <td>NaN</td>\n",
              "    </tr>\n",
              "    <tr>\n",
              "      <th>50%</th>\n",
              "      <td>3.703421e+07</td>\n",
              "      <td>2.013137e+10</td>\n",
              "      <td>2019.0</td>\n",
              "      <td>7.0</td>\n",
              "      <td>8.000000</td>\n",
              "      <td>NaN</td>\n",
              "      <td>NaN</td>\n",
              "      <td>NaN</td>\n",
              "      <td>NaN</td>\n",
              "      <td>NaN</td>\n",
              "      <td>928.000000</td>\n",
              "      <td>0.000000</td>\n",
              "      <td>0.000000</td>\n",
              "      <td>0.000000</td>\n",
              "      <td>300.000000</td>\n",
              "      <td>1272.900000</td>\n",
              "      <td>NaN</td>\n",
              "      <td>NaN</td>\n",
              "      <td>NaN</td>\n",
              "    </tr>\n",
              "    <tr>\n",
              "      <th>75%</th>\n",
              "      <td>3.703536e+07</td>\n",
              "      <td>2.013137e+10</td>\n",
              "      <td>2019.0</td>\n",
              "      <td>7.0</td>\n",
              "      <td>8.000000</td>\n",
              "      <td>NaN</td>\n",
              "      <td>NaN</td>\n",
              "      <td>NaN</td>\n",
              "      <td>NaN</td>\n",
              "      <td>NaN</td>\n",
              "      <td>1191.200000</td>\n",
              "      <td>0.000000</td>\n",
              "      <td>0.000000</td>\n",
              "      <td>0.000000</td>\n",
              "      <td>300.000000</td>\n",
              "      <td>1620.140000</td>\n",
              "      <td>NaN</td>\n",
              "      <td>NaN</td>\n",
              "      <td>NaN</td>\n",
              "    </tr>\n",
              "    <tr>\n",
              "      <th>max</th>\n",
              "      <td>3.703652e+07</td>\n",
              "      <td>2.013137e+10</td>\n",
              "      <td>2019.0</td>\n",
              "      <td>7.0</td>\n",
              "      <td>8.000000</td>\n",
              "      <td>NaN</td>\n",
              "      <td>NaN</td>\n",
              "      <td>NaN</td>\n",
              "      <td>NaN</td>\n",
              "      <td>NaN</td>\n",
              "      <td>30000.000000</td>\n",
              "      <td>25000.000000</td>\n",
              "      <td>4163.330000</td>\n",
              "      <td>17833.330000</td>\n",
              "      <td>300.000000</td>\n",
              "      <td>47833.330000</td>\n",
              "      <td>NaN</td>\n",
              "      <td>NaN</td>\n",
              "      <td>NaN</td>\n",
              "    </tr>\n",
              "  </tbody>\n",
              "</table>\n",
              "</div>"
            ],
            "text/plain": [
              "        PK_ID_PERSONAL  VC_PERSONAL_RUC_ENTIDAD  ...                FEC_REG  gender\n",
              "count     4.613000e+03             4.613000e+03  ...                   4613    4613\n",
              "unique             NaN                      NaN  ...                     16       2\n",
              "top                NaN                      NaN  ...  8/14/2019 10:54:13 AM  female\n",
              "freq               NaN                      NaN  ...                    958    2618\n",
              "mean      3.703247e+07             2.013137e+10  ...                    NaN     NaN\n",
              "std       4.272199e+04             0.000000e+00  ...                    NaN     NaN\n",
              "min       3.418967e+07             2.013137e+10  ...                    NaN     NaN\n",
              "25%       3.703306e+07             2.013137e+10  ...                    NaN     NaN\n",
              "50%       3.703421e+07             2.013137e+10  ...                    NaN     NaN\n",
              "75%       3.703536e+07             2.013137e+10  ...                    NaN     NaN\n",
              "max       3.703652e+07             2.013137e+10  ...                    NaN     NaN\n",
              "\n",
              "[11 rows x 19 columns]"
            ]
          },
          "metadata": {
            "tags": []
          },
          "execution_count": 17
        }
      ]
    },
    {
      "cell_type": "code",
      "metadata": {
        "id": "6L7YbeZgxUwM",
        "colab_type": "code",
        "colab": {}
      },
      "source": [
        "db=db[['IN_PERSONAL_ANNO', 'IN_PERSONAL_MES', 'VC_PERSONAL_REGIMEN_LABORAL',\n",
        "       'VC_PERSONAL_CARGO', 'VC_PERSONAL_DEPENDENCIA',\n",
        "       'MO_PERSONAL_REMUNERACIONES', 'MO_PERSONAL_HONORARIOS',\n",
        "       'MO_PERSONAL_INCENTIVO', 'MO_PERSONAL_GRATIFICACION',\n",
        "       'MO_PERSONAL_OTROS_BENEFICIOS', 'MO_PERSONAL_TOTAL',\n",
        "       'VC_PERSONAL_OBSERVACIONES', 'FEC_REG', 'gender']]\n",
        "#db.to_csv('presidencia2019_.csv')\n",
        "db.to_csv('Minagri_0201906.csv')"
      ],
      "execution_count": 18,
      "outputs": []
    },
    {
      "cell_type": "code",
      "metadata": {
        "id": "5CSY5vSJ9G-v",
        "colab_type": "code",
        "colab": {
          "base_uri": "https://localhost:8080/",
          "height": 34
        },
        "outputId": "72aa1e11-a89b-4607-aa87-9088b276327d"
      },
      "source": [
        "dq=pd.read_csv('Minagri_0201906.csv')\n",
        "len(dq)"
      ],
      "execution_count": 19,
      "outputs": [
        {
          "output_type": "execute_result",
          "data": {
            "text/plain": [
              "4613"
            ]
          },
          "metadata": {
            "tags": []
          },
          "execution_count": 19
        }
      ]
    },
    {
      "cell_type": "code",
      "metadata": {
        "id": "cx4DCv689SPZ",
        "colab_type": "code",
        "colab": {}
      },
      "source": [
        "db=db[['IN_PERSONAL_MES','VC_PERSONAL_REGIMEN_LABORAL','gender']]\n",
        "#db.astype(int)"
      ],
      "execution_count": 20,
      "outputs": []
    },
    {
      "cell_type": "code",
      "metadata": {
        "id": "Q_sM6gnF9WSx",
        "colab_type": "code",
        "colab": {}
      },
      "source": [
        "#ad=pd.read_csv('presidencia20190')\n",
        "#db['IN_PERSONAL_MES']=db['IN_PERSONAL_MES'].astype(int)#.tail()\n",
        "#db['VC_PERSONAL_REGIMEN_LABORAL']=list(db['VC_PERSONAL_REGIMEN_LABORAL'])\n",
        "#type(db['IN_PERSONAL_MES'])"
      ],
      "execution_count": 21,
      "outputs": []
    },
    {
      "cell_type": "code",
      "metadata": {
        "id": "gnG8ib-093bc",
        "colab_type": "code",
        "colab": {
          "base_uri": "https://localhost:8080/",
          "height": 34
        },
        "outputId": "e5d96ecd-6510-4ecc-f73b-c60e0504fc9b"
      },
      "source": [
        "import matplotlib\n",
        "import matplotlib.pyplot as plt\n",
        "import numpy as np\n",
        "\n",
        "labels = ['1', '2', '3', '4', '5','6','7','8','9']\n",
        "men = db[db['gender']=='male']\n",
        "women = db[db['gender']=='female']\n",
        "women.columns#head()"
      ],
      "execution_count": 22,
      "outputs": [
        {
          "output_type": "execute_result",
          "data": {
            "text/plain": [
              "Index(['IN_PERSONAL_MES', 'VC_PERSONAL_REGIMEN_LABORAL', 'gender'], dtype='object')"
            ]
          },
          "metadata": {
            "tags": []
          },
          "execution_count": 22
        }
      ]
    }
  ]
}