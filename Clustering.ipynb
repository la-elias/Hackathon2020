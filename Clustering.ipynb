{
  "nbformat": 4,
  "nbformat_minor": 0,
  "metadata": {
    "colab": {
      "name": "Clustering",
      "provenance": [],
      "authorship_tag": "ABX9TyNXR3DB1ytPf9pwMooyhios",
      "include_colab_link": true
    },
    "kernelspec": {
      "name": "python3",
      "display_name": "Python 3"
    }
  },
  "cells": [
    {
      "cell_type": "markdown",
      "metadata": {
        "id": "view-in-github",
        "colab_type": "text"
      },
      "source": [
        "<a href=\"https://colab.research.google.com/github/la-elias/Hackathon2020/blob/master/Clustering.ipynb\" target=\"_parent\"><img src=\"https://colab.research.google.com/assets/colab-badge.svg\" alt=\"Open In Colab\"/></a>"
      ]
    },
    {
      "cell_type": "code",
      "metadata": {
        "id": "Bqj9Fcbb3P3m",
        "colab_type": "code",
        "colab": {
          "base_uri": "https://localhost:8080/",
          "height": 105
        },
        "outputId": "43872541-4a7c-4606-be5f-e277c3e790b8"
      },
      "source": [
        "import pandas as pd\n",
        "import pandas as pd\n",
        "import numpy as np\n",
        "import matplotlib.pyplot as plt\n",
        "import seaborn as sb\n",
        "from sklearn.cluster import KMeans\n",
        "from sklearn.metrics import pairwise_distances_argmin_min\n",
        "%matplotlib inline\n",
        "from mpl_toolkits.mplot3d import Axes3D\n",
        "from yellowbrick.text import FreqDistVisualizer\n",
        "from yellowbrick.exceptions import YellowbrickValueError\n",
        "from yellowbrick.cluster import InterclusterDistance\n",
        "from sklearn.decomposition import TruncatedSVD\n",
        "#Metrics libraries\n",
        "from sklearn import cluster, mixture\n",
        "from sklearn import metrics\n",
        "from sklearn.preprocessing import Normalizer\n",
        "from sklearn.pipeline import make_pipeline"
      ],
      "execution_count": null,
      "outputs": [
        {
          "output_type": "stream",
          "text": [
            "/usr/local/lib/python3.6/dist-packages/statsmodels/tools/_testing.py:19: FutureWarning: pandas.util.testing is deprecated. Use the functions in the public API at pandas.testing instead.\n",
            "  import pandas.util.testing as tm\n",
            "/usr/local/lib/python3.6/dist-packages/sklearn/utils/deprecation.py:144: FutureWarning: The sklearn.metrics.classification module is  deprecated in version 0.22 and will be removed in version 0.24. The corresponding classes / functions should instead be imported from sklearn.metrics. Anything that cannot be imported from sklearn.metrics is now part of the private API.\n",
            "  warnings.warn(message, FutureWarning)\n"
          ],
          "name": "stderr"
        }
      ]
    },
    {
      "cell_type": "code",
      "metadata": {
        "id": "QG3-4qN526-J",
        "colab_type": "code",
        "colab": {
          "base_uri": "https://localhost:8080/",
          "height": 394
        },
        "outputId": "2b927f12-b0f4-4f3e-982a-465adbb0259a"
      },
      "source": [
        "dataset=pd.read_csv('https://raw.githubusercontent.com/la-elias/Hackathon2020/master/minagri2.csv', delimiter=',')\n",
        "dataset.head()"
      ],
      "execution_count": 13,
      "outputs": [
        {
          "output_type": "execute_result",
          "data": {
            "text/html": [
              "<div>\n",
              "<style scoped>\n",
              "    .dataframe tbody tr th:only-of-type {\n",
              "        vertical-align: middle;\n",
              "    }\n",
              "\n",
              "    .dataframe tbody tr th {\n",
              "        vertical-align: top;\n",
              "    }\n",
              "\n",
              "    .dataframe thead th {\n",
              "        text-align: right;\n",
              "    }\n",
              "</style>\n",
              "<table border=\"1\" class=\"dataframe\">\n",
              "  <thead>\n",
              "    <tr style=\"text-align: right;\">\n",
              "      <th></th>\n",
              "      <th>Column1</th>\n",
              "      <th>IN_PERSONAL_ANNO</th>\n",
              "      <th>IN_PERSONAL_MES</th>\n",
              "      <th>VC_PERSONAL_REGIMEN_LABORAL</th>\n",
              "      <th>VC_PERSONAL_CARGO</th>\n",
              "      <th>VC_PERSONAL_DEPENDENCIA</th>\n",
              "      <th>MO_PERSONAL_REMUNERACIONES</th>\n",
              "      <th>MO_PERSONAL_HONORARIOS</th>\n",
              "      <th>MO_PERSONAL_INCENTIVO</th>\n",
              "      <th>MO_PERSONAL_GRATIFICACION</th>\n",
              "      <th>MO_PERSONAL_OTROS_BENEFICIOS</th>\n",
              "      <th>MO_PERSONAL_TOTAL</th>\n",
              "      <th>VC_PERSONAL_OBSERVACIONES</th>\n",
              "      <th>FEC_REG</th>\n",
              "      <th>gender</th>\n",
              "      <th>male</th>\n",
              "      <th>female</th>\n",
              "    </tr>\n",
              "  </thead>\n",
              "  <tbody>\n",
              "    <tr>\n",
              "      <th>0</th>\n",
              "      <td>798</td>\n",
              "      <td>2019</td>\n",
              "      <td>7</td>\n",
              "      <td>2</td>\n",
              "      <td>ABOGADO IV</td>\n",
              "      <td>PROCURADURÃA PÃšBLICA</td>\n",
              "      <td>0.00</td>\n",
              "      <td>0.0</td>\n",
              "      <td>0</td>\n",
              "      <td>300</td>\n",
              "      <td>0</td>\n",
              "      <td>0.00</td>\n",
              "      <td>LICENCIA SIN GOCE</td>\n",
              "      <td>8/14/2019 10:09:16 AM</td>\n",
              "      <td>male</td>\n",
              "      <td>1</td>\n",
              "      <td>0</td>\n",
              "    </tr>\n",
              "    <tr>\n",
              "      <th>1</th>\n",
              "      <td>858</td>\n",
              "      <td>2019</td>\n",
              "      <td>7</td>\n",
              "      <td>2</td>\n",
              "      <td>ABOGADO IV</td>\n",
              "      <td>OFICINA GENERAL DE ASESORÃA JURÃDICA</td>\n",
              "      <td>655.57</td>\n",
              "      <td>0.0</td>\n",
              "      <td>2783</td>\n",
              "      <td>300</td>\n",
              "      <td>0</td>\n",
              "      <td>3438.90</td>\n",
              "      <td>NINGUNA</td>\n",
              "      <td>8/14/2019 10:09:16 AM</td>\n",
              "      <td>male</td>\n",
              "      <td>1</td>\n",
              "      <td>0</td>\n",
              "    </tr>\n",
              "    <tr>\n",
              "      <th>2</th>\n",
              "      <td>887</td>\n",
              "      <td>2019</td>\n",
              "      <td>7</td>\n",
              "      <td>2</td>\n",
              "      <td>ABOGADO IV</td>\n",
              "      <td>PROCURADURÃA PÃšBLICA</td>\n",
              "      <td>532.77</td>\n",
              "      <td>0.0</td>\n",
              "      <td>2783</td>\n",
              "      <td>300</td>\n",
              "      <td>0</td>\n",
              "      <td>3316.10</td>\n",
              "      <td>NINGUNA</td>\n",
              "      <td>8/14/2019 10:09:16 AM</td>\n",
              "      <td>male</td>\n",
              "      <td>1</td>\n",
              "      <td>0</td>\n",
              "    </tr>\n",
              "    <tr>\n",
              "      <th>3</th>\n",
              "      <td>897</td>\n",
              "      <td>2019</td>\n",
              "      <td>7</td>\n",
              "      <td>2</td>\n",
              "      <td>ABOGADO IV</td>\n",
              "      <td>PROCURADURÃA PÃšBLICA</td>\n",
              "      <td>602.62</td>\n",
              "      <td>0.0</td>\n",
              "      <td>3013</td>\n",
              "      <td>300</td>\n",
              "      <td>0</td>\n",
              "      <td>3615.95</td>\n",
              "      <td>NINGUNA</td>\n",
              "      <td>8/14/2019 10:09:16 AM</td>\n",
              "      <td>female</td>\n",
              "      <td>0</td>\n",
              "      <td>1</td>\n",
              "    </tr>\n",
              "    <tr>\n",
              "      <th>4</th>\n",
              "      <td>673</td>\n",
              "      <td>2019</td>\n",
              "      <td>7</td>\n",
              "      <td>2</td>\n",
              "      <td>ANALISTA DE SISTEMA PAD III</td>\n",
              "      <td>DIRECCIÃ“N DE ESTADÃSTICA AGRARIA</td>\n",
              "      <td>605.62</td>\n",
              "      <td>0.0</td>\n",
              "      <td>3013</td>\n",
              "      <td>300</td>\n",
              "      <td>0</td>\n",
              "      <td>3618.95</td>\n",
              "      <td>NINGUNA</td>\n",
              "      <td>8/14/2019 10:09:16 AM</td>\n",
              "      <td>male</td>\n",
              "      <td>1</td>\n",
              "      <td>0</td>\n",
              "    </tr>\n",
              "  </tbody>\n",
              "</table>\n",
              "</div>"
            ],
            "text/plain": [
              "   Column1  IN_PERSONAL_ANNO  IN_PERSONAL_MES  ...  gender male female\n",
              "0      798              2019                7  ...    male    1      0\n",
              "1      858              2019                7  ...    male    1      0\n",
              "2      887              2019                7  ...    male    1      0\n",
              "3      897              2019                7  ...  female    0      1\n",
              "4      673              2019                7  ...    male    1      0\n",
              "\n",
              "[5 rows x 17 columns]"
            ]
          },
          "metadata": {
            "tags": []
          },
          "execution_count": 13
        }
      ]
    },
    {
      "cell_type": "code",
      "metadata": {
        "id": "Zc3EWF3Z4faB",
        "colab_type": "code",
        "colab": {
          "base_uri": "https://localhost:8080/",
          "height": 34
        },
        "outputId": "48818d5d-f788-4022-e9ac-733f1a632e5b"
      },
      "source": [
        "len(dataset.columns)"
      ],
      "execution_count": 14,
      "outputs": [
        {
          "output_type": "execute_result",
          "data": {
            "text/plain": [
              "17"
            ]
          },
          "metadata": {
            "tags": []
          },
          "execution_count": 14
        }
      ]
    },
    {
      "cell_type": "code",
      "metadata": {
        "id": "Mq5Abp4b43A3",
        "colab_type": "code",
        "colab": {
          "base_uri": "https://localhost:8080/",
          "height": 317
        },
        "outputId": "2304e7cc-10d1-4b79-8b63-6ee4d673ce4f"
      },
      "source": [
        "dataset.describe()"
      ],
      "execution_count": 15,
      "outputs": [
        {
          "output_type": "execute_result",
          "data": {
            "text/html": [
              "<div>\n",
              "<style scoped>\n",
              "    .dataframe tbody tr th:only-of-type {\n",
              "        vertical-align: middle;\n",
              "    }\n",
              "\n",
              "    .dataframe tbody tr th {\n",
              "        vertical-align: top;\n",
              "    }\n",
              "\n",
              "    .dataframe thead th {\n",
              "        text-align: right;\n",
              "    }\n",
              "</style>\n",
              "<table border=\"1\" class=\"dataframe\">\n",
              "  <thead>\n",
              "    <tr style=\"text-align: right;\">\n",
              "      <th></th>\n",
              "      <th>Column1</th>\n",
              "      <th>IN_PERSONAL_ANNO</th>\n",
              "      <th>IN_PERSONAL_MES</th>\n",
              "      <th>VC_PERSONAL_REGIMEN_LABORAL</th>\n",
              "      <th>MO_PERSONAL_REMUNERACIONES</th>\n",
              "      <th>MO_PERSONAL_HONORARIOS</th>\n",
              "      <th>MO_PERSONAL_INCENTIVO</th>\n",
              "      <th>MO_PERSONAL_GRATIFICACION</th>\n",
              "      <th>MO_PERSONAL_OTROS_BENEFICIOS</th>\n",
              "      <th>MO_PERSONAL_TOTAL</th>\n",
              "      <th>male</th>\n",
              "      <th>female</th>\n",
              "    </tr>\n",
              "  </thead>\n",
              "  <tbody>\n",
              "    <tr>\n",
              "      <th>count</th>\n",
              "      <td>4613.000000</td>\n",
              "      <td>4613.0</td>\n",
              "      <td>4613.0</td>\n",
              "      <td>4613.000000</td>\n",
              "      <td>4613.000000</td>\n",
              "      <td>4613.000000</td>\n",
              "      <td>4613.000000</td>\n",
              "      <td>4613.000000</td>\n",
              "      <td>4613.000000</td>\n",
              "      <td>4613.000000</td>\n",
              "      <td>4613.000000</td>\n",
              "      <td>4613.000000</td>\n",
              "    </tr>\n",
              "    <tr>\n",
              "      <th>mean</th>\n",
              "      <td>2306.000000</td>\n",
              "      <td>2019.0</td>\n",
              "      <td>7.0</td>\n",
              "      <td>6.650119</td>\n",
              "      <td>1660.702697</td>\n",
              "      <td>67.455740</td>\n",
              "      <td>153.972252</td>\n",
              "      <td>50.123347</td>\n",
              "      <td>268.285281</td>\n",
              "      <td>2164.951200</td>\n",
              "      <td>0.432473</td>\n",
              "      <td>0.567527</td>\n",
              "    </tr>\n",
              "    <tr>\n",
              "      <th>std</th>\n",
              "      <td>1331.802726</td>\n",
              "      <td>0.0</td>\n",
              "      <td>0.0</td>\n",
              "      <td>2.677655</td>\n",
              "      <td>2363.679757</td>\n",
              "      <td>1125.915689</td>\n",
              "      <td>640.272957</td>\n",
              "      <td>515.165537</td>\n",
              "      <td>91.271419</td>\n",
              "      <td>2727.840899</td>\n",
              "      <td>0.495473</td>\n",
              "      <td>0.495473</td>\n",
              "    </tr>\n",
              "    <tr>\n",
              "      <th>min</th>\n",
              "      <td>0.000000</td>\n",
              "      <td>2019.0</td>\n",
              "      <td>7.0</td>\n",
              "      <td>1.000000</td>\n",
              "      <td>0.000000</td>\n",
              "      <td>0.000000</td>\n",
              "      <td>0.000000</td>\n",
              "      <td>0.000000</td>\n",
              "      <td>0.000000</td>\n",
              "      <td>0.000000</td>\n",
              "      <td>0.000000</td>\n",
              "      <td>0.000000</td>\n",
              "    </tr>\n",
              "    <tr>\n",
              "      <th>25%</th>\n",
              "      <td>1153.000000</td>\n",
              "      <td>2019.0</td>\n",
              "      <td>7.0</td>\n",
              "      <td>8.000000</td>\n",
              "      <td>750.090000</td>\n",
              "      <td>0.000000</td>\n",
              "      <td>0.000000</td>\n",
              "      <td>0.000000</td>\n",
              "      <td>300.000000</td>\n",
              "      <td>1085.000000</td>\n",
              "      <td>0.000000</td>\n",
              "      <td>0.000000</td>\n",
              "    </tr>\n",
              "    <tr>\n",
              "      <th>50%</th>\n",
              "      <td>2306.000000</td>\n",
              "      <td>2019.0</td>\n",
              "      <td>7.0</td>\n",
              "      <td>8.000000</td>\n",
              "      <td>928.000000</td>\n",
              "      <td>0.000000</td>\n",
              "      <td>0.000000</td>\n",
              "      <td>0.000000</td>\n",
              "      <td>300.000000</td>\n",
              "      <td>1272.900000</td>\n",
              "      <td>0.000000</td>\n",
              "      <td>1.000000</td>\n",
              "    </tr>\n",
              "    <tr>\n",
              "      <th>75%</th>\n",
              "      <td>3459.000000</td>\n",
              "      <td>2019.0</td>\n",
              "      <td>7.0</td>\n",
              "      <td>8.000000</td>\n",
              "      <td>1191.200000</td>\n",
              "      <td>0.000000</td>\n",
              "      <td>0.000000</td>\n",
              "      <td>0.000000</td>\n",
              "      <td>300.000000</td>\n",
              "      <td>1620.140000</td>\n",
              "      <td>1.000000</td>\n",
              "      <td>1.000000</td>\n",
              "    </tr>\n",
              "    <tr>\n",
              "      <th>max</th>\n",
              "      <td>4612.000000</td>\n",
              "      <td>2019.0</td>\n",
              "      <td>7.0</td>\n",
              "      <td>8.000000</td>\n",
              "      <td>30000.000000</td>\n",
              "      <td>25000.000000</td>\n",
              "      <td>4163.000000</td>\n",
              "      <td>17833.000000</td>\n",
              "      <td>300.000000</td>\n",
              "      <td>47833.330000</td>\n",
              "      <td>1.000000</td>\n",
              "      <td>1.000000</td>\n",
              "    </tr>\n",
              "  </tbody>\n",
              "</table>\n",
              "</div>"
            ],
            "text/plain": [
              "           Column1  IN_PERSONAL_ANNO  ...         male       female\n",
              "count  4613.000000            4613.0  ...  4613.000000  4613.000000\n",
              "mean   2306.000000            2019.0  ...     0.432473     0.567527\n",
              "std    1331.802726               0.0  ...     0.495473     0.495473\n",
              "min       0.000000            2019.0  ...     0.000000     0.000000\n",
              "25%    1153.000000            2019.0  ...     0.000000     0.000000\n",
              "50%    2306.000000            2019.0  ...     0.000000     1.000000\n",
              "75%    3459.000000            2019.0  ...     1.000000     1.000000\n",
              "max    4612.000000            2019.0  ...     1.000000     1.000000\n",
              "\n",
              "[8 rows x 12 columns]"
            ]
          },
          "metadata": {
            "tags": []
          },
          "execution_count": 15
        }
      ]
    },
    {
      "cell_type": "code",
      "metadata": {
        "id": "DwY9Ub9z3Vz5",
        "colab_type": "code",
        "colab": {
          "base_uri": "https://localhost:8080/",
          "height": 34
        },
        "outputId": "53aeeeb5-c5cb-45fb-f28d-3105b7f20892"
      },
      "source": [
        "dataset_V=dataset[dataset['male']==1]\n",
        "dataset_M=dataset[dataset['female']==1]\n",
        "len(dataset_M.columns)"
      ],
      "execution_count": 17,
      "outputs": [
        {
          "output_type": "execute_result",
          "data": {
            "text/plain": [
              "17"
            ]
          },
          "metadata": {
            "tags": []
          },
          "execution_count": 17
        }
      ]
    },
    {
      "cell_type": "code",
      "metadata": {
        "id": "EY1j1j6PIYYF",
        "colab_type": "code",
        "colab": {}
      },
      "source": [
        "X_v=dataset_V.iloc[:, [3,6,7,8,9,10,11,15,16]].values # Nota solo tomar los datos numericos\n",
        "X_m=dataset_M.iloc[:, [3,6,7,8,9,10,11,15,16]].values # puede ser tambien edad: [2,3,4]"
      ],
      "execution_count": 25,
      "outputs": []
    },
    {
      "cell_type": "code",
      "metadata": {
        "id": "np5hdPJyIyGR",
        "colab_type": "code",
        "colab": {}
      },
      "source": [
        "from sklearn.datasets import make_blobs\n",
        "from yellowbrick.cluster import InterclusterDistance"
      ],
      "execution_count": 26,
      "outputs": []
    },
    {
      "cell_type": "code",
      "metadata": {
        "id": "ZhN0tRNTI7g7",
        "colab_type": "code",
        "colab": {
          "base_uri": "https://localhost:8080/",
          "height": 366
        },
        "outputId": "34e5e5fd-b942-4ad9-8321-7bac0516f76a"
      },
      "source": [
        "visualizer = InterclusterDistance(cluster.KMeans(4))#Can change k\n",
        "visualizer.fit(X_v) # Fit the training data to the visualizer\n",
        "visualizer.poof() # Draw/show/poof the data"
      ],
      "execution_count": 54,
      "outputs": [
        {
          "output_type": "display_data",
          "data": {
            "image/png": "[encoded data removed]",
            "text/plain": [
              "<Figure size 576x396 with 2 Axes>"
            ]
          },
          "metadata": {
            "tags": []
          }
        }
      ]
    },
    {
      "cell_type": "code",
      "metadata": {
        "id": "ISrsEkwwKvMN",
        "colab_type": "code",
        "colab": {}
      },
      "source": [
        "svd = TruncatedSVD(n_components=2,n_iter=10)\n",
        "normalizer = Normalizer(copy=False)#Since LSA/SVD results are not normalized, we have to redo the normalization.\n",
        "lsa = make_pipeline(svd, normalizer)\n",
        "X_M = svd.fit_transform(X_m)\n",
        "X_V= svd.fit_transform(X_v)"
      ],
      "execution_count": 28,
      "outputs": []
    },
    {
      "cell_type": "code",
      "metadata": {
        "id": "BZEZlx6jKyaD",
        "colab_type": "code",
        "colab": {
          "base_uri": "https://localhost:8080/",
          "height": 366
        },
        "outputId": "9deaebd4-d91b-4a62-b710-825b69aa3204"
      },
      "source": [
        "visualizer = InterclusterDistance(cluster.KMeans(4))#Can change k\n",
        "visualizer.fit(X_V) # Fit the training data to the visualizer\n",
        "visualizer.poof() # Draw/show/poof the data"
      ],
      "execution_count": 55,
      "outputs": [
        {
          "output_type": "display_data",
          "data": {
            "image/png": "[encoded data removed]",
            "text/plain": [
              "<Figure size 576x396 with 2 Axes>"
            ]
          },
          "metadata": {
            "tags": []
          }
        }
      ]
    },
    {
      "cell_type": "code",
      "metadata": {
        "id": "17rGPNBkK0Sp",
        "colab_type": "code",
        "colab": {}
      },
      "source": [
        "from sklearn.cluster import KMeans\n",
        "wcss_V= []\n",
        "for i in range(1, 11):\n",
        "    kmeans = KMeans(n_clusters = i, init = 'k-means++', random_state = 100)\n",
        "    kmeans.fit(X_V)\n",
        "    wcss_V.append(kmeans.inertia_)\n",
        "wcss_M = []\n",
        "for i in range(1, 11):\n",
        "    kmeans = KMeans(n_clusters = i, init = 'k-means++', random_state = 100)\n",
        "    kmeans.fit(X_M)\n",
        "    wcss_M.append(kmeans.inertia_)"
      ],
      "execution_count": 30,
      "outputs": []
    },
    {
      "cell_type": "code",
      "metadata": {
        "id": "B3SpjxNmK5oz",
        "colab_type": "code",
        "colab": {
          "base_uri": "https://localhost:8080/",
          "height": 376
        },
        "outputId": "999920a4-3c11-469b-ebc8-9507888598cd"
      },
      "source": [
        "plt.plot(range(1, 11), wcss_M, label='Mujeres')   \n",
        "plt.plot(range(1, 11), wcss_V, label='Varones')\n",
        "plt.title('Metodo del codo')\n",
        "plt.xlabel('Number of clusters')\n",
        "plt.ylabel('WCSS')\n",
        "plt.legend()\n",
        "plt.show()"
      ],
      "execution_count": 31,
      "outputs": [
        {
          "output_type": "display_data",
          "data": {
            "image/png": "[encoded data removed]",
            "text/plain": [
              "<Figure size 576x396 with 1 Axes>"
            ]
          },
          "metadata": {
            "tags": []
          }
        }
      ]
    },
    {
      "cell_type": "code",
      "metadata": {
        "id": "IZnCaq8fK845",
        "colab_type": "code",
        "colab": {}
      },
      "source": [
        "#Mujeres\n",
        "kmeansM = KMeans(n_clusters = 4, init = 'k-means++', random_state = 42)\n",
        "y_kmeans_M = kmeansM.fit_predict(X_M)\n",
        "#Varones\n",
        "kmeansV = KMeans(n_clusters = 4, init = 'k-means++', random_state = 42)\n",
        "y_kmeans_V = kmeansV.fit_predict(X_V)"
      ],
      "execution_count": 40,
      "outputs": []
    },
    {
      "cell_type": "code",
      "metadata": {
        "id": "B_SRilEHLAN5",
        "colab_type": "code",
        "colab": {
          "base_uri": "https://localhost:8080/",
          "height": 376
        },
        "outputId": "723ec10a-45bb-40a5-fd39-ee272dbed71c"
      },
      "source": [
        "#Mujeres\n",
        "plt.scatter(X_M[y_kmeans_M == 0, 0], X_M[y_kmeans_M== 0, 1], s = 50, c = 'red', label = 'Cluster 1')\n",
        "plt.scatter(X_M[y_kmeans_M == 1, 0], X_M[y_kmeans_M == 1, 1], s = 50, c = 'blue', label = 'Cluster 2')\n",
        "plt.scatter(X_M[y_kmeans_M == 2, 0], X_M[y_kmeans_M == 2, 1], s = 50, c = 'green', label = 'Cluster 3')\n",
        "plt.scatter(X_M[y_kmeans_M == 3, 0], X_M[y_kmeans_M == 3, 1], s = 50, c = 'cyan', label = 'Cluster 4')\n",
        "plt.scatter(kmeansM.cluster_centers_[:, 0], kmeansM.cluster_centers_[:, 1], s = 100, c = 'black', label = 'Centroids')\n",
        "plt.title('Clusters de Empleadas')\n",
        "plt.xlabel('PC1')\n",
        "plt.ylabel('PC2')\n",
        "plt.legend()\n",
        "plt.show()"
      ],
      "execution_count": 41,
      "outputs": [
        {
          "output_type": "display_data",
          "data": {
            "image/png": "[encoded data removed]",
            "text/plain": [
              "<Figure size 576x396 with 1 Axes>"
            ]
          },
          "metadata": {
            "tags": []
          }
        }
      ]
    },
    {
      "cell_type": "code",
      "metadata": {
        "id": "Uktod_R-LRYR",
        "colab_type": "code",
        "colab": {
          "base_uri": "https://localhost:8080/",
          "height": 376
        },
        "outputId": "0b08aae1-5a4f-4b9a-cdd1-2ecee6ef8b7a"
      },
      "source": [
        "#Varones\n",
        "plt.scatter(X_V[y_kmeans_V == 0, 0], X_V[y_kmeans_V== 0, 1], s = 50, c = 'red', label = 'Cluster 1')\n",
        "plt.scatter(X_V[y_kmeans_V == 1, 0], X_V[y_kmeans_V == 1, 1], s = 50, c = 'blue', label = 'Cluster 2')\n",
        "plt.scatter(X_V[y_kmeans_V == 2, 0], X_V[y_kmeans_V == 2, 1], s = 50, c = 'green', label = 'Cluster 3')\n",
        "plt.scatter(X_M[y_kmeans_M == 3, 0], X_M[y_kmeans_M == 3, 1], s = 50, c = 'cyan', label = 'Cluster 4')\n",
        "plt.scatter(kmeansV.cluster_centers_[:, 0], kmeansV.cluster_centers_[:, 1], s = 100, c = 'black', label = 'Centroids')\n",
        "plt.title('Clusters de Empleados')\n",
        "plt.xlabel('PC1')\n",
        "plt.ylabel('PC2')\n",
        "plt.legend()\n",
        "plt.show()"
      ],
      "execution_count": 42,
      "outputs": [
        {
          "output_type": "display_data",
          "data": {
            "image/png": "[encoded data removed]",
            "text/plain": [
              "<Figure size 576x396 with 1 Axes>"
            ]
          },
          "metadata": {
            "tags": []
          }
        }
      ]
    },
    {
      "cell_type": "code",
      "metadata": {
        "id": "o6sp1Xq_LUjh",
        "colab_type": "code",
        "colab": {
          "base_uri": "https://localhost:8080/",
          "height": 629
        },
        "outputId": "30d8636a-974b-4026-9446-fdecb1d40727"
      },
      "source": [
        "centroids_M = kmeansM.cluster_centers_\n",
        "original_space_centroids = svd.inverse_transform(centroids_M)\n",
        "order_centroids = original_space_centroids.argsort()[:, ::-1]\n",
        "#terms = vectorizer.get_feature_names()\n",
        "for i in range(4):\n",
        "    print(\"Cluster %d:\" %i, end='')\n",
        "    for ind in original_space_centroids[i, :10]:\n",
        "        print(' %s' % ind, end='')\n",
        "        print()"
      ],
      "execution_count": 44,
      "outputs": [
        {
          "output_type": "stream",
          "text": [
            "Cluster 0: 7.517965289057844\n",
            " 7826.059080179682\n",
            " -307.4789904441222\n",
            " 156.35830828461127\n",
            " 88.35453043415463\n",
            " 483.6499002194036\n",
            " 8159.024134687125\n",
            " 1.7452136153666098\n",
            " 0.0\n",
            "Cluster 1: 1.163851934390845\n",
            " 1103.4298288406294\n",
            " 97.93910936371674\n",
            " 44.80294323304759\n",
            " 14.788301689353386\n",
            " 70.12921532045556\n",
            " 1316.4422448132498\n",
            " 0.26781877828728473\n",
            " 0.0\n",
            "Cluster 2: 34.56013283014502\n",
            " 32366.970463786765\n",
            " 3445.3004891873375\n",
            " 1406.409007700444\n",
            " 443.2294469628553\n",
            " 2064.953425559716\n",
            " 39288.09658665141\n",
            " 7.944078663586085\n",
            " 0.0\n",
            "Cluster 3: 11.913864044793968\n",
            " -563.4916874403383\n",
            " 16965.988614868984\n",
            " 2717.818752743302\n",
            " 273.151734306381\n",
            " 197.50253076459302\n",
            " 19327.344235928893\n",
            " 2.4830500264282174\n",
            " 0.0\n"
          ],
          "name": "stdout"
        }
      ]
    },
    {
      "cell_type": "code",
      "metadata": {
        "id": "NmpLDtQuLX75",
        "colab_type": "code",
        "colab": {
          "base_uri": "https://localhost:8080/",
          "height": 629
        },
        "outputId": "de7ec9f6-5f44-4ffb-f7e4-1d5c9b306586"
      },
      "source": [
        "centroids_V = kmeansV.cluster_centers_\n",
        "original_space_centroids = svd.inverse_transform(centroids_V)\n",
        "order_centroids = original_space_centroids.argsort()[:, ::-1]\n",
        "#terms = vectorizer.get_feature_names()\n",
        "for i in range(4):\n",
        "    print(\"Cluster %d:\" %i, end='')\n",
        "    for ind in original_space_centroids[i, :10]:\n",
        "        print(' %s' % ind, end='')\n",
        "        print()"
      ],
      "execution_count": 45,
      "outputs": [
        {
          "output_type": "stream",
          "text": [
            "Cluster 0: 1.2517164437111474\n",
            " 1171.3984316069154\n",
            " 125.97488367748309\n",
            " 51.106623537340596\n",
            " 16.06219608763325\n",
            " 74.7506995029836\n",
            " 1423.3928918249953\n",
            " 0.2877033858225876\n",
            " 0.0\n",
            "Cluster 1: 6.3863160359667575\n",
            " 6535.327387519344\n",
            " -109.4791343391937\n",
            " 154.29363794096938\n",
            " 76.21217818699533\n",
            " 405.9023197755467\n",
            " 6986.491245821398\n",
            " 1.4800568212086145\n",
            " 0.0\n",
            "Cluster 2: 12.347640716843907\n",
            " -931.5483108929111\n",
            " 18051.541132568473\n",
            " 2882.9816911389976\n",
            " 286.6656721038885\n",
            " 189.44297715972613\n",
            " 20202.527181523226\n",
            " 2.565880728079385\n",
            " 0.0\n",
            "Cluster 3: 13.797208689912722\n",
            " 14223.320755948233\n",
            " -376.76522390955495\n",
            " 313.49351326936727\n",
            " 163.58153196014894\n",
            " 881.4964973277413\n",
            " 15042.440336666625\n",
            " 3.199834755093385\n",
            " 0.0\n"
          ],
          "name": "stdout"
        }
      ]
    }
  ]
}